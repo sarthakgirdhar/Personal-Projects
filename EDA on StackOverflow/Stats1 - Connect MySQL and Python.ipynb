{
 "cells": [
  {
   "cell_type": "markdown",
   "id": "47484422",
   "metadata": {},
   "source": [
    "In this notebook, we will connect **Python** and **MySQL database** and then write queries in python to pull required data from the database and present it in an appropriate format."
   ]
  },
  {
   "cell_type": "markdown",
   "id": "3ab1cb69",
   "metadata": {},
   "source": [
    "## Query 1\n",
    "\n",
    "Find users who have more than (a total of) 5000 upvotes."
   ]
  },
  {
   "cell_type": "code",
   "execution_count": 1,
   "id": "c1c4c17c",
   "metadata": {},
   "outputs": [],
   "source": [
    "import mysql.connector\n",
    "\n",
    "cnx = mysql.connector.connect(user='root', password='qaz2wsx',\n",
    "                              host='localhost',\n",
    "                              database='stats')\n",
    "\n",
    "# prepare a cursor object\n",
    "cursorObject = cnx.cursor()\n",
    "\n",
    "query = (\"SELECT * FROM users WHERE UpVotes > 5000;\")\n",
    " \n",
    "# execute the query\n",
    "cursorObject.execute(query)"
   ]
  },
  {
   "cell_type": "code",
   "execution_count": 2,
   "id": "e5008fb7",
   "metadata": {},
   "outputs": [],
   "source": [
    "# fetch all the columns\n",
    "result = cursorObject.fetchall()"
   ]
  },
  {
   "cell_type": "code",
   "execution_count": 3,
   "id": "e9c78418",
   "metadata": {},
   "outputs": [
    {
     "name": "stdout",
     "output_type": "stream",
     "text": [
      "Community has more than 5000 upvotes.\n",
      "Glen_b has more than 5000 upvotes.\n",
      "whuber has more than 5000 upvotes.\n",
      "chl has more than 5000 upvotes.\n",
      "Andy W has more than 5000 upvotes.\n",
      "Xi'an has more than 5000 upvotes.\n",
      "gung - Reinstate Monica has more than 5000 upvotes.\n",
      "kjetil b halvorsen has more than 5000 upvotes.\n",
      "Scortchi - Reinstate Monica has more than 5000 upvotes.\n",
      "COOLSerdash has more than 5000 upvotes.\n",
      "Sycorax has more than 5000 upvotes.\n",
      "soakley has more than 5000 upvotes.\n",
      "amoeba has more than 5000 upvotes.\n",
      "Tim has more than 5000 upvotes.\n",
      "Firebug has more than 5000 upvotes.\n",
      "Christoph Hanck has more than 5000 upvotes.\n",
      "Matthew Drury has more than 5000 upvotes.\n",
      "Ferdi has more than 5000 upvotes.\n"
     ]
    }
   ],
   "source": [
    "# the usernames column is at position 3\n",
    "for users in result:\n",
    "    print(\"{} has more than 5000 upvotes.\".format(users[3]))"
   ]
  },
  {
   "cell_type": "markdown",
   "id": "1c21b0a6",
   "metadata": {},
   "source": [
    "The above list displays all the user names that have a total of more than 5000 upvotes summed across all their posts.\n",
    "\n",
    "Let's try another query. "
   ]
  },
  {
   "cell_type": "markdown",
   "id": "c6bf1b18",
   "metadata": {},
   "source": [
    "## Query 2\n",
    "\n",
    "Find **top 10 most viewed questions** with tag *bayesian*. "
   ]
  },
  {
   "cell_type": "code",
   "execution_count": 4,
   "id": "a0e6753e",
   "metadata": {},
   "outputs": [],
   "source": [
    "# 'Body' contains the text and PostTypeId = 1 are the questions\n",
    "query = (\"SELECT Body FROM posts WHERE PostTypeId = 1 AND Tags LIKE '%bayesian%' ORDER BY ViewCount DESC LIMIT 10;\")\n",
    "\n",
    "cursorObject.execute(query)"
   ]
  },
  {
   "cell_type": "code",
   "execution_count": 5,
   "id": "4fc777d0",
   "metadata": {},
   "outputs": [],
   "source": [
    "result = cursorObject.fetchall()"
   ]
  },
  {
   "cell_type": "code",
   "execution_count": 6,
   "id": "2ade0799",
   "metadata": {},
   "outputs": [
    {
     "name": "stdout",
     "output_type": "stream",
     "text": [
      "Top 10 most viewed questions with the tag bayesian:-\n",
      "\n",
      "\n",
      "\n",
      "('<p>How would you describe in plain English the characteristics that distinguish Bayesian from Frequentist reasoning?</p>&#xA;',)\n",
      "\n",
      "('<blockquote>&#xA;  <p>In a group of students, there are 2 out of 18 that are left-handed. Find the posterior distribution of left-handed students in the population assuming uninformative prior. Summarize the results. According to the literature 5-20% of people are left-handed. Take this information into account in your prior and calculate new posterior. </p>&#xA;</blockquote>&#xA;&#xA;<p>I know the <em>beta distribution</em> should be used here. First, with <span class=\"math-container\">$\\\\alpha$</span> and <span class=\"math-container\">$\\\\beta$</span> values as 1? The equation I found in the material for posterior is </p>&#xA;&#xA;<p><span class=\"math-container\">$$\\\\pi(r \\\\vert Y ) \\\\propto r^{(Y +−1)} \\\\times (1 − r)^{(N−Y +−1)} \\\\\\\\&#xA;$$</span></p>&#xA;&#xA;<p><span class=\"math-container\">$Y=2$</span>, <span class=\"math-container\">$N=18$</span></p>&#xA;&#xA;<p>Why is that <span class=\"math-container\">$r$</span> in the equation? (<span class=\"math-container\">$r$</span> denoting the proportion of left-handed people). It is unknown, so how can it be in this equation? To me it seems ridiculous to calculate <span class=\"math-container\">$r$</span> given <span class=\"math-container\">$Y$</span> and use that <span class=\"math-container\">$r$</span> in the equation giving <span class=\"math-container\">$r$</span>. Well, with the sample <span class=\"math-container\">$r=2/18$</span> the result was <span class=\"math-container\">$0,0019$</span>. The <span class=\"math-container\">$f$</span> should I deduce from that?</p>&#xA;&#xA;<p>The equation giving an expected value of <span class=\"math-container\">$R$</span> given known <span class=\"math-container\">$Y$</span> and <span class=\"math-container\">$N$</span> worked better and gave me <span class=\"math-container\">$0,15$</span> which sounds about right. The equation being <span class=\"math-container\">$E(r | X, N, α, β) = (α + X)/(α + β + N)$</span> with value <span class=\"math-container\">$1$</span> assigned to <span class=\"math-container\">$α$</span> and <span class=\"math-container\">$β$</span>. What values should I give <span class=\"math-container\">$α$</span> and <span class=\"math-container\">$β$</span> to take into account prior information?</p>&#xA;&#xA;<p>Some tips would be much appreciated. A general lecture on prior and posterior distributions wouldn\\'t hurt either (I have vague understanding what they are but only vague) Also bear in mind I\\'m not very advanced statistician (actually I\\'m a political scientist by my main trade) so advanced mathematics will probably fly over my head. </p>&#xA;',)\n",
      "\n",
      "(\"<p>Maybe the concept, why it's used, and an example.</p>&#xA;\",)\n",
      "\n",
      "('<p>Joris and Srikant\\'s exchange <a href=\"https://stats.stackexchange.com/questions/2182/can-you-explaining-why-statistical-tie-is-not-naively-when-p-1-p-2-2-moe/2242#2242\">here</a> got me wondering (again) if my internal explanations for the difference between confidence intervals and credible intervals were the correct ones.  How you would explain the difference?</p>&#xA;',)\n",
      "\n",
      "('<p>Which is the best introductory textbook for Bayesian statistics?</p>&#xA;&#xA;<p>One book per answer, please.</p>&#xA;',)\n",
      "\n",
      "('<p>I\\'ve dealt with <strong>Naive Bayes</strong> classifier before. I\\'ve been reading about <strong>Multinomial Naive Bayes</strong> lately.</p>&#xA;<p>Also <strong>Posterior Probability = (Prior * Likelihood)/(Evidence)</strong>.</p>&#xA;<p>The only prime difference (while programming these classifiers) I found between Naive Bayes &amp; Multinomial Naive Bayes is that</p>&#xA;<p><strong>Multinomial Naive Bayes</strong> calculates likelihood to be <strong>count of an word/token</strong> (random variable) and <strong>Naive Bayes</strong> calculates likelihood to be following:</p>&#xA;<p><img src=\"https://i.stack.imgur.com/4Q5L1.png\" alt=\"enter image description here\" /></p>&#xA;<p><strong>Correct me if I\\'m wrong!</strong></p>&#xA;',)\n",
      "\n",
      "('<p>Please explain to me the difference in Bayesian estimate and Maximum likelihood estimate?</p>&#xA;',)\n",
      "\n",
      "(\"<p>I got this question during an interview with Amazon:</p>&#xA;&#xA;<ul>&#xA;<li>50% of all people who receive a first interview receive a second interview</li>&#xA;<li>95% of your friends that got a second interview felt they had a good first interview</li>&#xA;<li>75% of your friends that DID NOT get a second interview felt they had a good first interview</li>&#xA;</ul>&#xA;&#xA;<p>If you feel that you had a good first interview, what is the probability you will receive a second interview?</p>&#xA;&#xA;<p>Can someone please explain how to solve this? I'm having trouble breaking down the word problem into math (the interview is long over now). I understand there may not be an actual numerical solution, but an explanation of how you would walk through this problem would help.</p>&#xA;&#xA;<p>edit: Well I did get a second interview. If anyone is curious I had gone with an explanation that was a combination of a bunch of the responses below: not enough info, friends not representative sample, etc and just talked through some probabilities. The question left me puzzled at the end though, thanks for all of the responses.</p>&#xA;\",)\n",
      "\n",
      "('<p>Can I call a model wherein Bayes\\' Theorem is used a \"Bayesian model\"? I am afraid such a definition might be too broad.</p>&#xA;&#xA;<p>So what exactly is a Bayesian model?</p>&#xA;',)\n",
      "\n",
      "('<p>I\\'m fairly new to Bayesian statistics and I came across a corrected correlation measure, <a href=\"http://journals.plos.org/ploscompbiol/article?id=10.1371/journal.pcbi.1002687\" rel=\"noreferrer\">SparCC</a>, that uses the Dirichlet process in the backend of it\\'s algorithm.  I have been trying to go through the algorithm step-by-step to really understand what is happening but I am not sure exactly what the <code>alpha</code> vector parameter does in a Dirichlet distribution and how it normalizes the <code>alpha</code> vector parameter? </p>&#xA;&#xA;<p>The implementation is in <code>Python</code> using <code>NumPy</code>:&#xA;<a href=\"https://docs.scipy.org/doc/numpy/reference/generated/numpy.random.dirichlet.html\" rel=\"noreferrer\">https://docs.scipy.org/doc/numpy/reference/generated/numpy.random.dirichlet.html</a></p>&#xA;&#xA;<p>The docs say:</p>&#xA;&#xA;<blockquote>&#xA;  <p>alpha : array&#xA;       Parameter of the distribution (k dimension for sample of&#xA;       dimension k).</p>&#xA;</blockquote>&#xA;&#xA;<p>My questions:</p>&#xA;&#xA;<ol>&#xA;<li><p>How do the <code>alphas</code> affect the distribution?;</p></li>&#xA;<li><p>How are the <code>alphas</code> being normalized?;&#xA;and </p></li>&#xA;<li><p>What happens when the <code>alphas</code> are not integers?</p></li>&#xA;</ol>&#xA;&#xA;<pre class=\"lang-py prettyprint-override\"><code>import numpy as np&#xA;import pandas as pd&#xA;import matplotlib.pyplot as plt&#xA;&#xA;# Reproducibility&#xA;np.random.seed(0)&#xA;&#xA;# Integer values for alphas&#xA;alphas = np.arange(10)&#xA;# array([0, 1, 2, 3, 4, 5, 6, 7, 8, 9])&#xA;&#xA;# Dirichlet Distribution&#xA;dd = np.random.dirichlet(alphas) &#xA;# array([ 0.        ,  0.0175113 ,  0.00224837,  0.1041491 ,  0.1264133 ,&#xA;#         0.06936311,  0.13086698,  0.15698674,  0.13608845,  0.25637266])&#xA;&#xA;# Plot&#xA;ax = pd.Series(dd).plot()&#xA;ax.set_xlabel(\"alpha\")&#xA;ax.set_ylabel(\"Dirichlet Draw\")&#xA;</code></pre>&#xA;&#xA;<p><a href=\"https://i.stack.imgur.com/I8h4m.png\" rel=\"noreferrer\"><img src=\"https://i.stack.imgur.com/I8h4m.png\" alt=\"enter image description here\"></a></p>&#xA;',)\n"
     ]
    }
   ],
   "source": [
    "print(\"Top 10 most viewed questions with the tag bayesian:-\")\n",
    "print(\"\\n\\n\")\n",
    "print(*result, sep = \"\\n\\n\")"
   ]
  },
  {
   "cell_type": "markdown",
   "id": "7e0e4867",
   "metadata": {},
   "source": [
    "Let us try one final query. "
   ]
  },
  {
   "cell_type": "markdown",
   "id": "a647fec7",
   "metadata": {},
   "source": [
    "## Query 3\n",
    "\n",
    "Find the top 10 users from Canada and their respective reputation.  "
   ]
  },
  {
   "cell_type": "code",
   "execution_count": 7,
   "id": "ef738172",
   "metadata": {},
   "outputs": [],
   "source": [
    "query = (\"SELECT DisplayName, Reputation FROM users WHERE Location LIKE '%canada%' ORDER BY Reputation DESC LIMIT 10;\")"
   ]
  },
  {
   "cell_type": "markdown",
   "id": "f898a25e",
   "metadata": {},
   "source": [
    "The above query might not get us the exact correct result as there could be users who never mentioned their country name in the *Location* field, however, this will do for now :)"
   ]
  },
  {
   "cell_type": "code",
   "execution_count": 8,
   "id": "90d36ccd",
   "metadata": {},
   "outputs": [],
   "source": [
    "cursorObject.execute(query)"
   ]
  },
  {
   "cell_type": "code",
   "execution_count": 9,
   "id": "53b0d341",
   "metadata": {},
   "outputs": [],
   "source": [
    "result = cursorObject.fetchall()"
   ]
  },
  {
   "cell_type": "code",
   "execution_count": 10,
   "id": "ded110db",
   "metadata": {},
   "outputs": [
    {
     "name": "stdout",
     "output_type": "stream",
     "text": [
      "+--------------------+--------------+\n",
      "| Username           |   Reputation |\n",
      "+====================+==============+\n",
      "| Ben Bolker         |        33583 |\n",
      "+--------------------+--------------+\n",
      "| Demetri Pananos    |        22191 |\n",
      "+--------------------+--------------+\n",
      "| Danica             |        21522 |\n",
      "+--------------------+--------------+\n",
      "| John               |        21067 |\n",
      "+--------------------+--------------+\n",
      "| Isabella Ghement   |        17944 |\n",
      "+--------------------+--------------+\n",
      "| Placidia           |        13431 |\n",
      "+--------------------+--------------+\n",
      "| gui11aume          |        13233 |\n",
      "+--------------------+--------------+\n",
      "| Mike Lawrence      |        12623 |\n",
      "+--------------------+--------------+\n",
      "| Cam.Davidson.Pilon |        11231 |\n",
      "+--------------------+--------------+\n",
      "| Neil McGuigan      |         9252 |\n",
      "+--------------------+--------------+\n"
     ]
    }
   ],
   "source": [
    "from tabulate import tabulate\n",
    "\n",
    "print(tabulate(result, headers=['Username', 'Reputation'], tablefmt='grid'))"
   ]
  },
  {
   "cell_type": "markdown",
   "id": "d30a64ea",
   "metadata": {},
   "source": [
    "As you saw above, we can execute MySQL queries in Python, and even display results. \n",
    "\n",
    "However, we will move on from here and import the *MySQL tables* into **Pandas dataframes** and then perform our further analysis on them.  "
   ]
  },
  {
   "cell_type": "markdown",
   "id": "93ed105b",
   "metadata": {},
   "source": [
    "## References\n",
    "\n",
    "1. https://dev.mysql.com/doc/connector-python/en/connector-python-example-cursor-select.html\n",
    "2. https://stackoverflow.com/questions/10865483/print-results-in-mysql-format-with-python\n",
    "3. https://dev.mysql.com/doc/connector-python/en/connector-python-example-connecting.html"
   ]
  }
 ],
 "metadata": {
  "kernelspec": {
   "display_name": "Python 3 (ipykernel)",
   "language": "python",
   "name": "python3"
  },
  "language_info": {
   "codemirror_mode": {
    "name": "ipython",
    "version": 3
   },
   "file_extension": ".py",
   "mimetype": "text/x-python",
   "name": "python",
   "nbconvert_exporter": "python",
   "pygments_lexer": "ipython3",
   "version": "3.9.7"
  },
  "toc": {
   "base_numbering": 1,
   "nav_menu": {},
   "number_sections": true,
   "sideBar": true,
   "skip_h1_title": false,
   "title_cell": "Table of Contents",
   "title_sidebar": "Contents",
   "toc_cell": false,
   "toc_position": {},
   "toc_section_display": true,
   "toc_window_display": false
  }
 },
 "nbformat": 4,
 "nbformat_minor": 5
}
